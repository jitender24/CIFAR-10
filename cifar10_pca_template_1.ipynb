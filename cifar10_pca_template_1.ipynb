{
 "cells": [
  {
   "cell_type": "code",
   "execution_count": 1,
   "metadata": {},
   "outputs": [],
   "source": [
    "import cifar10\n",
    "import matplotlib.pyplot as plt\n",
    "import numpy as np\n",
    "from sklearn.model_selection import train_test_split\n",
    "from sklearn.neighbors import KNeighborsClassifier"
   ]
  },
  {
   "cell_type": "code",
   "execution_count": 2,
   "metadata": {},
   "outputs": [],
   "source": [
    "cifar10.data_path = \"data/CIFAR-10/\""
   ]
  },
  {
   "cell_type": "code",
   "execution_count": 3,
   "metadata": {},
   "outputs": [
    {
     "name": "stdout",
     "output_type": "stream",
     "text": [
      "Data has apparently already been downloaded and unpacked.\n"
     ]
    }
   ],
   "source": [
    "cifar10.maybe_download_and_extract()"
   ]
  },
  {
   "cell_type": "code",
   "execution_count": 4,
   "metadata": {},
   "outputs": [
    {
     "name": "stdout",
     "output_type": "stream",
     "text": [
      "Loading data: data/CIFAR-10/cifar-10-batches-py/batches.meta\n"
     ]
    },
    {
     "data": {
      "text/plain": [
       "['airplane',\n",
       " 'automobile',\n",
       " 'bird',\n",
       " 'cat',\n",
       " 'deer',\n",
       " 'dog',\n",
       " 'frog',\n",
       " 'horse',\n",
       " 'ship',\n",
       " 'truck']"
      ]
     },
     "execution_count": 4,
     "metadata": {},
     "output_type": "execute_result"
    }
   ],
   "source": [
    "class_names = cifar10.load_class_names()\n",
    "class_names"
   ]
  },
  {
   "cell_type": "code",
   "execution_count": 5,
   "metadata": {},
   "outputs": [
    {
     "name": "stdout",
     "output_type": "stream",
     "text": [
      "Loading data: data/CIFAR-10/cifar-10-batches-py/data_batch_1\n",
      "Loading data: data/CIFAR-10/cifar-10-batches-py/data_batch_2\n",
      "Loading data: data/CIFAR-10/cifar-10-batches-py/data_batch_3\n",
      "Loading data: data/CIFAR-10/cifar-10-batches-py/data_batch_4\n",
      "Loading data: data/CIFAR-10/cifar-10-batches-py/data_batch_5\n",
      "Loading data: data/CIFAR-10/cifar-10-batches-py/test_batch\n"
     ]
    }
   ],
   "source": [
    "images_train, cls_train, labels_train = cifar10.load_training_data()\n",
    "images_test, cls_test, labels_test = cifar10.load_test_data()"
   ]
  },
  {
   "cell_type": "code",
   "execution_count": 6,
   "metadata": {},
   "outputs": [],
   "source": [
    "images_train_data = images_train.reshape(50000, 3072)"
   ]
  },
  {
   "cell_type": "code",
   "execution_count": 7,
   "metadata": {},
   "outputs": [],
   "source": [
    "x_images_train, x_images_test, y_images_train, y_images_test = train_test_split(images_train_data, cls_train, random_state = 1)"
   ]
  },
  {
   "cell_type": "code",
   "execution_count": 8,
   "metadata": {},
   "outputs": [],
   "source": [
    "from sklearn.decomposition import PCA\n",
    "from sklearn.metrics import confusion_matrix\n",
    "from sklearn.metrics import classification_report\n",
    "from sklearn.ensemble import RandomForestClassifier"
   ]
  },
  {
   "cell_type": "code",
   "execution_count": 11,
   "metadata": {},
   "outputs": [
    {
     "data": {
      "text/plain": [
       "216"
      ]
     },
     "execution_count": 11,
     "metadata": {},
     "output_type": "execute_result"
    }
   ],
   "source": [
    "pca_cifar = PCA()\n",
    "pca_cifar.fit(x_images_train)\n",
    "k =0 \n",
    "total =0\n",
    "while total < 0.95:\n",
    "    total += pca_cifar.explained_variance_ratio_[k]\n",
    "    k += 1\n",
    "k"
   ]
  },
  {
   "cell_type": "code",
   "execution_count": 12,
   "metadata": {},
   "outputs": [],
   "source": [
    "pca = PCA(n_components = k, whiten = True)\n",
    "pca.fit(x_images_train)\n",
    "x_train_reduced = pca.transform(x_images_train)\n",
    "x_test_reduced = pca.transform(x_images_test)"
   ]
  },
  {
   "cell_type": "code",
   "execution_count": 13,
   "metadata": {},
   "outputs": [
    {
     "name": "stdout",
     "output_type": "stream",
     "text": [
      "Wall time: 4min 56s\n"
     ]
    }
   ],
   "source": [
    "%%time\n",
    "rf = KNeighborsClassifier(n_neighbors = 3, algorithm = 'kd_tree')\n",
    "rf.fit(x_train_reduced, y_images_train)\n",
    "y_pca_pred = rf.predict(x_test_reduced)"
   ]
  },
  {
   "cell_type": "code",
   "execution_count": 14,
   "metadata": {},
   "outputs": [
    {
     "name": "stdout",
     "output_type": "stream",
     "text": [
      "[[567   1 145  15  90   5   5   0 409   0]\n",
      " [312  93 184  54 225   5  16   2 355   0]\n",
      " [249   0 435  50 408   2  19   1 128   0]\n",
      " [272   1 354 134 274  15  22   1 180   0]\n",
      " [231   0 226  49 594   3   7   2 137   0]\n",
      " [276   1 394 110 280  33  22   0 117   0]\n",
      " [186   1 296  70 487   5  91   3 104   0]\n",
      " [251   2 305  64 440   6  29  58 101   0]\n",
      " [259   3  98  22  67   3   6   2 775   0]\n",
      " [293   9 232  56 248  12  12   0 386   8]]\n",
      "             precision    recall  f1-score   support\n",
      "\n",
      "          0       0.20      0.46      0.27      1237\n",
      "          1       0.84      0.07      0.14      1246\n",
      "          2       0.16      0.34      0.22      1292\n",
      "          3       0.21      0.11      0.14      1253\n",
      "          4       0.19      0.48      0.27      1249\n",
      "          5       0.37      0.03      0.05      1233\n",
      "          6       0.40      0.07      0.12      1243\n",
      "          7       0.84      0.05      0.09      1256\n",
      "          8       0.29      0.63      0.39      1235\n",
      "          9       1.00      0.01      0.01      1256\n",
      "\n",
      "avg / total       0.45      0.22      0.17     12500\n",
      "\n"
     ]
    }
   ],
   "source": [
    "print(confusion_matrix(y_images_test, y_pca_pred))\n",
    "print(classification_report(y_images_test, y_pca_pred))"
   ]
  },
  {
   "cell_type": "code",
   "execution_count": null,
   "metadata": {},
   "outputs": [],
   "source": []
  }
 ],
 "metadata": {
  "anaconda-cloud": {},
  "kernelspec": {
   "display_name": "Python 3",
   "language": "python",
   "name": "python3"
  },
  "language_info": {
   "codemirror_mode": {
    "name": "ipython",
    "version": 3
   },
   "file_extension": ".py",
   "mimetype": "text/x-python",
   "name": "python",
   "nbconvert_exporter": "python",
   "pygments_lexer": "ipython3",
   "version": "3.6.5"
  }
 },
 "nbformat": 4,
 "nbformat_minor": 1
}
